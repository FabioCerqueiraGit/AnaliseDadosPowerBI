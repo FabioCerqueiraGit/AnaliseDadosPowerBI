{
  "nbformat": 4,
  "nbformat_minor": 0,
  "metadata": {
    "colab": {
      "provenance": [],
      "authorship_tag": "ABX9TyMODQF4tv8wSreZN+uXcFrT",
      "include_colab_link": true
    },
    "kernelspec": {
      "name": "python3",
      "display_name": "Python 3"
    },
    "language_info": {
      "name": "python"
    }
  },
  "cells": [
    {
      "cell_type": "markdown",
      "metadata": {
        "id": "view-in-github",
        "colab_type": "text"
      },
      "source": [
        "<a href=\"https://colab.research.google.com/github/FabioCerqueiraGit/AnaliseDadosPowerBI/blob/main/ProbabiidadeEstatistica.ipynb\" target=\"_parent\"><img src=\"https://colab.research.google.com/assets/colab-badge.svg\" alt=\"Open In Colab\"/></a>"
      ]
    },
    {
      "cell_type": "markdown",
      "source": [
        "# Probabilidade e Estatística\n",
        "\n",
        "Scripts para resolver questões de Probabilidade e Estatística. Aqui está uma lista inicial de tópicos que vamos cobrir com os scripts:\n",
        "\n",
        "*   Distribuição de Frequências\n",
        "*   Medidas de Tendência Central (Média, Mediana, Moda)\n",
        "*   Medidas de Dispersão (Variância, Desvio Padrão, Amplitude)\n",
        "*   Distribuições de Probabilidade (Binomial, Poisson, Normal)\n",
        "*   Intervalo de Confiança\n",
        "*   Testes de Hipóteses\n",
        "\n",
        "Vou criar um exemplo de script para cada tópico mencionado. Após isso ireimos adicionar problemas reais e resolver cada um deles."
      ],
      "metadata": {
        "id": "a9op07aFT9Ma"
      }
    },
    {
      "cell_type": "markdown",
      "source": [
        "# 1. Distribuição de Frequências"
      ],
      "metadata": {
        "id": "qAEORTaEU6aP"
      }
    },
    {
      "cell_type": "code",
      "source": [
        "import pandas as pd\n",
        "\n",
        "# Exemplo de dados\n",
        "data = [1, 2, 2, 2, 3, 3, 4, 4, 4, 4, 5, 5, 6, 6, 7]\n",
        "\n",
        "# Criando a distribuição de frequências\n",
        "frequency_distribution = pd.Series(data).value_counts().sort_index()\n",
        "\n",
        "print(\"Distribuição de Frequências:\")\n",
        "print(frequency_distribution)\n"
      ],
      "metadata": {
        "colab": {
          "base_uri": "https://localhost:8080/"
        },
        "id": "SaqASUdTT84E",
        "outputId": "c7ef4aa6-7bc3-4479-f2c0-82de82e017f4"
      },
      "execution_count": 1,
      "outputs": [
        {
          "output_type": "stream",
          "name": "stdout",
          "text": [
            "Distribuição de Frequências:\n",
            "1    1\n",
            "2    3\n",
            "3    2\n",
            "4    4\n",
            "5    2\n",
            "6    2\n",
            "7    1\n",
            "Name: count, dtype: int64\n"
          ]
        }
      ]
    },
    {
      "cell_type": "markdown",
      "source": [
        "# 2. Medidas de Tendência Central"
      ],
      "metadata": {
        "id": "8fsLqz_fU_mF"
      }
    },
    {
      "cell_type": "code",
      "execution_count": null,
      "metadata": {
        "id": "MKNyhOkcS95y"
      },
      "outputs": [],
      "source": [
        "import numpy as np\n",
        "from scipy import stats\n",
        "\n",
        "# Exemplo de dados\n",
        "data = [1, 2, 2, 2, 3, 3, 4, 4, 4, 4, 5, 5, 6, 6, 7]\n",
        "\n",
        "# Calculando média, mediana e moda\n",
        "mean = np.mean(data)\n",
        "median = np.median(data)\n",
        "mode = stats.mode(data)\n",
        "\n",
        "print(f\"Média: {mean}\")\n",
        "print(f\"Mediana: {median}\")\n",
        "print(f\"Moda: {mode.mode[0]} com frequência {mode.count[0]}\")\n"
      ]
    },
    {
      "cell_type": "markdown",
      "source": [
        "# 3. Medidas de Dispersão"
      ],
      "metadata": {
        "id": "ilQakyaKVDb4"
      }
    },
    {
      "cell_type": "code",
      "source": [
        "# Exemplo de dados\n",
        "data = [1, 2, 2, 2, 3, 3, 4, 4, 4, 4, 5, 5, 6, 6, 7]\n",
        "\n",
        "# Calculando variância, desvio padrão e amplitude\n",
        "variance = np.var(data, ddof=1)\n",
        "std_deviation = np.std(data, ddof=1)\n",
        "range_ = np.ptp(data)\n",
        "\n",
        "print(f\"Variância: {variance}\")\n",
        "print(f\"Desvio Padrão: {std_deviation}\")\n",
        "print(f\"Amplitude: {range_}\")\n"
      ],
      "metadata": {
        "id": "FwAKyvNSVFwA"
      },
      "execution_count": null,
      "outputs": []
    },
    {
      "cell_type": "markdown",
      "source": [
        "# 4. Distribuições de Probabilidade"
      ],
      "metadata": {
        "id": "GHMhH2NPVHnq"
      }
    },
    {
      "cell_type": "markdown",
      "source": [
        "**Binomial**"
      ],
      "metadata": {
        "id": "34fL_ii7VRUi"
      }
    },
    {
      "cell_type": "code",
      "source": [
        "from scipy.stats import binom\n",
        "\n",
        "# Parâmetros da distribuição binomial\n",
        "n = 10  # Número de experimentos\n",
        "p = 0.5  # Probabilidade de sucesso\n",
        "\n",
        "# Distribuição binomial\n",
        "binom_distribution = binom.pmf(range(n+1), n, p)\n",
        "\n",
        "print(\"Distribuição Binomial:\")\n",
        "print(binom_distribution)\n"
      ],
      "metadata": {
        "id": "akud1c_2VK0G"
      },
      "execution_count": null,
      "outputs": []
    },
    {
      "cell_type": "markdown",
      "source": [
        "**Poisson**"
      ],
      "metadata": {
        "id": "Pvt5t8BlVO6S"
      }
    },
    {
      "cell_type": "code",
      "source": [
        "from scipy.stats import poisson\n",
        "\n",
        "# Parâmetro da distribuição Poisson\n",
        "lambda_ = 3\n",
        "\n",
        "# Distribuição Poisson\n",
        "poisson_distribution = poisson.pmf(range(10), lambda_)\n",
        "\n",
        "print(\"Distribuição Poisson:\")\n",
        "print(poisson_distribution)\n"
      ],
      "metadata": {
        "id": "pKENnZOoVZex"
      },
      "execution_count": null,
      "outputs": []
    },
    {
      "cell_type": "markdown",
      "source": [
        "**Normal**"
      ],
      "metadata": {
        "id": "y7XQq_deVbGp"
      }
    },
    {
      "cell_type": "code",
      "source": [
        "import matplotlib.pyplot as plt\n",
        "from scipy.stats import norm\n",
        "\n",
        "# Parâmetros da distribuição normal\n",
        "mu = 0\n",
        "sigma = 1\n",
        "\n",
        "# Distribuição normal\n",
        "x = np.linspace(mu - 3*sigma, mu + 3*sigma, 100)\n",
        "normal_distribution = norm.pdf(x, mu, sigma)\n",
        "\n",
        "plt.plot(x, normal_distribution)\n",
        "plt.title(\"Distribuição Normal\")\n",
        "plt.xlabel(\"Valor\")\n",
        "plt.ylabel(\"Densidade de Probabilidade\")\n",
        "plt.show()\n"
      ],
      "metadata": {
        "id": "8c5LFBi2VdCS"
      },
      "execution_count": null,
      "outputs": []
    },
    {
      "cell_type": "markdown",
      "source": [
        "# 5. Intervalo de Confiança"
      ],
      "metadata": {
        "id": "uF2U65oiVgFm"
      }
    },
    {
      "cell_type": "code",
      "source": [
        "import scipy.stats as st\n",
        "\n",
        "# Exemplo de dados\n",
        "data = [1, 2, 2, 2, 3, 3, 4, 4, 4, 4, 5, 5, 6, 6, 7]\n",
        "\n",
        "# Intervalo de confiança de 95% para a média\n",
        "confidence_interval = st.t.interval(0.95, len(data)-1, loc=np.mean(data), scale=st.sem(data))\n",
        "\n",
        "print(f\"Intervalo de Confiança (95%): {confidence_interval}\")\n"
      ],
      "metadata": {
        "id": "1fi7zsn-Vhct"
      },
      "execution_count": null,
      "outputs": []
    },
    {
      "cell_type": "markdown",
      "source": [
        "# 6. Testes de Hipóteses"
      ],
      "metadata": {
        "id": "g0FWBoGJVjNN"
      }
    },
    {
      "cell_type": "markdown",
      "source": [
        "**Teste T de uma amostra**"
      ],
      "metadata": {
        "id": "yf5QyucaVmq9"
      }
    },
    {
      "cell_type": "code",
      "source": [
        "# Exemplo de dados\n",
        "data = [1, 2, 2, 2, 3, 3, 4, 4, 4, 4, 5, 5, 6, 6, 7]\n",
        "\n",
        "# Teste t de uma amostra\n",
        "t_statistic, p_value = st.ttest_1samp(data, 3)\n",
        "\n",
        "print(f\"Estatística t: {t_statistic}\")\n",
        "print(f\"Valor p: {p_value}\")\n"
      ],
      "metadata": {
        "id": "me4fJn-CVlRH"
      },
      "execution_count": null,
      "outputs": []
    },
    {
      "cell_type": "markdown",
      "source": [
        "**Teste T para duas amostras independentes**"
      ],
      "metadata": {
        "id": "0XXG0hN2VrRu"
      }
    },
    {
      "cell_type": "code",
      "source": [
        "# Exemplo de dados\n",
        "data1 = [1, 2, 2, 2, 3, 3, 4, 4, 4, 4, 5, 5, 6, 6, 7]\n",
        "data2 = [2, 3, 3, 3, 4, 4, 5, 5, 5, 5, 6, 6, 7, 7, 8]\n",
        "\n",
        "# Teste t para duas amostras independentes\n",
        "t_statistic, p_value = st.ttest_ind(data1, data2)\n",
        "\n",
        "print(f\"Estatística t: {t_statistic}\")\n",
        "print(f\"Valor p: {p_value}\")\n"
      ],
      "metadata": {
        "id": "R3bNPnSjVup-"
      },
      "execution_count": null,
      "outputs": []
    },
    {
      "cell_type": "markdown",
      "source": [
        "# Resolvendo problemas reais"
      ],
      "metadata": {
        "id": "cyJTXMJBWb2F"
      }
    },
    {
      "cell_type": "markdown",
      "source": [
        "**Segundo Castanheira (2008), a mediana de um conjunto de dados é o valor que ocupa a posição central desses dados.\n",
        "Dado o conjunto de números na série 10, 20, 40, 50, 70, 80, qual será o valor da mediana?**"
      ],
      "metadata": {
        "id": "8xv8taaYWlHV"
      }
    },
    {
      "cell_type": "code",
      "source": [
        "def calcular_mediana():\n",
        "    # Solicitando a quantidade de números na série\n",
        "    qtd_numeros = int(input(\"Digite a quantidade de números na série: \"))\n",
        "\n",
        "    # Solicitando os números da série separados por vírgula\n",
        "    numeros_input = input(\"Digite os números da série separados por vírgula: \")\n",
        "\n",
        "    # Convertendo a entrada para uma lista de inteiros\n",
        "    numeros = list(map(int, numeros_input.split(',')))\n",
        "\n",
        "    # Verificando se a quantidade de números fornecida é igual à quantidade informada\n",
        "    if len(numeros) != qtd_numeros:\n",
        "        print(\"A quantidade de números fornecida não corresponde à quantidade informada.\")\n",
        "        return\n",
        "\n",
        "    # Ordenando a lista de números\n",
        "    numeros.sort()\n",
        "\n",
        "    # Calculando a mediana\n",
        "    n = len(numeros)\n",
        "    if n % 2 == 0:\n",
        "        mediana = (numeros[n//2 - 1] + numeros[n//2]) / 2\n",
        "    else:\n",
        "        mediana = numeros[n//2]\n",
        "\n",
        "    print(f\"A mediana da série é: {mediana}\")\n",
        "\n",
        "# Executando a função\n",
        "calcular_mediana()\n"
      ],
      "metadata": {
        "colab": {
          "base_uri": "https://localhost:8080/"
        },
        "id": "X78yAK-LWu2E",
        "outputId": "7b6f05ca-3331-4846-99a5-6ed4e9dbe686"
      },
      "execution_count": 2,
      "outputs": [
        {
          "output_type": "stream",
          "name": "stdout",
          "text": [
            "Digite a quantidade de números na série: 6\n",
            "Digite os números da série separados por vírgula: 10, 20, 40, 50, 70, 80\n",
            "A mediana da série é: 45.0\n"
          ]
        }
      ]
    },
    {
      "cell_type": "markdown",
      "source": [
        "Foi realizado um teste de Estatística em uma turma constituída por 40 alunos e se obteve os seguintes resultados\n",
        "(dados brutos):\n",
        "7 - 6 - 8 - 7 - 6 - 4 - 5 - 7 - 7 - 8 - 5 - 10 - 6 - 7 - 8 - 5 - 10 - 4 - 6 - 7 - 7 - 9 - 5 - 6 - 8 - 6 - 7 - 10 - 4 - 6 - 9 - 5 - 8 - 9 - 10 - 7 - 7 - 5 - 9 - 10\n",
        "\n",
        "**Qual o resultado que apareceu com maior frequência?**"
      ],
      "metadata": {
        "id": "3kr5e-saXxi5"
      }
    },
    {
      "cell_type": "code",
      "source": [
        "from collections import Counter\n",
        "\n",
        "def resultado_mais_frequente():\n",
        "    # Solicitando a quantidade de alunos na turma\n",
        "    qtd_alunos = int(input(\"Digite a quantidade de alunos na turma: \"))\n",
        "\n",
        "    # Solicitando os resultados dos testes separados por vírgula\n",
        "    resultados_input = input(\"Digite os resultados dos testes separados por vírgula: \")\n",
        "\n",
        "    # Convertendo a entrada para uma lista de inteiros\n",
        "    resultados = list(map(int, resultados_input.split(',')))\n",
        "\n",
        "    # Verificando se a quantidade de resultados fornecida é igual à quantidade informada\n",
        "    if len(resultados) != qtd_alunos:\n",
        "        print(\"A quantidade de resultados fornecida não corresponde à quantidade informada.\")\n",
        "        return\n",
        "\n",
        "    # Calculando a frequência dos resultados\n",
        "    frequencia = Counter(resultados)\n",
        "\n",
        "    # Encontrando o resultado com maior frequência\n",
        "    resultado_mais_frequente = frequencia.most_common(1)[0]\n",
        "\n",
        "    print(f\"O resultado que apareceu com maior frequência é: {resultado_mais_frequente[0]} (frequência: {resultado_mais_frequente[1]})\")\n",
        "\n",
        "# Executando a função\n",
        "resultado_mais_frequente()\n"
      ],
      "metadata": {
        "colab": {
          "base_uri": "https://localhost:8080/"
        },
        "id": "rCl-WMfhYdK6",
        "outputId": "cc3adc80-a23c-4b54-8fd9-06f53fa40985"
      },
      "execution_count": 3,
      "outputs": [
        {
          "output_type": "stream",
          "name": "stdout",
          "text": [
            "Digite a quantidade de alunos na turma: 40\n",
            "Digite os resultados dos testes separados por vírgula: 7 , 6 , 8 , 7 , 6 , 4 , 5 , 7 , 7 , 8 , 5 ,10 , 6 , 7 , 8 , 5 , 10 , 4 , 6 , 7 , 7 , 9 , 5,  6 , 8 , 6 , 7 , 10 , 4 , 6 , 9 , 5 , 8 , 9 , 10 , 7 , 7 , 5 ,9 ,10\n",
            "O resultado que apareceu com maior frequência é: 7 (frequência: 10)\n"
          ]
        }
      ]
    },
    {
      "cell_type": "markdown",
      "source": [
        "Ao estudar uma variável, o maior interesse do pesquisador é conhecer o comportamento dessa variável, analisando a ocorrência\n",
        "de suas possíveis realizações.\n",
        "\n",
        "**Dada a distribuição de frequências a seguir, qual o ponto médio da 5ª classe ou intervalo?**\n",
        "\n",
        "Idades\n",
        "\n",
        "0 |-- 2\n",
        "\n",
        "2 |-- 4\n",
        "\n",
        "4 |-- 6\n",
        "\n",
        "6 |-- 8\n",
        "\n",
        "8 |-- 10\n",
        "\n",
        "Frequência (f)\n",
        "\n",
        "2\n",
        "\n",
        "5\n",
        "\n",
        "18\n",
        "\n",
        "10\n",
        "\n",
        "5"
      ],
      "metadata": {
        "id": "2ZMzcvJ0Zxfi"
      }
    },
    {
      "cell_type": "code",
      "source": [
        "def calcular_ponto_medio():\n",
        "    # Solicitando o limite inferior do intervalo\n",
        "    limite_inferior = float(input(\"Digite o limite inferior do intervalo: \"))\n",
        "\n",
        "    # Solicitando o limite superior do intervalo\n",
        "    limite_superior = float(input(\"Digite o limite superior do intervalo: \"))\n",
        "\n",
        "    # Calculando o ponto médio\n",
        "    ponto_medio = (limite_inferior + limite_superior) / 2\n",
        "\n",
        "    print(f\"O ponto médio da classe é: {ponto_medio}\")\n",
        "\n",
        "# Executando a função\n",
        "calcular_ponto_medio()\n"
      ],
      "metadata": {
        "colab": {
          "base_uri": "https://localhost:8080/"
        },
        "id": "tPIwqmheaUyG",
        "outputId": "20bb71d4-5018-44e6-dc81-46d0abb7f400"
      },
      "execution_count": 4,
      "outputs": [
        {
          "output_type": "stream",
          "name": "stdout",
          "text": [
            "Digite o limite inferior do intervalo: 8\n",
            "Digite o limite superior do intervalo: 10\n",
            "O ponto médio da classe é: 9.0\n"
          ]
        }
      ]
    },
    {
      "cell_type": "markdown",
      "source": [
        "**Qual a moda do conjunto de valores a seguir?**\n",
        "\n",
        "6 - 7 - 9 - 10 - 10 - 12"
      ],
      "metadata": {
        "id": "11MTl8RMb0r2"
      }
    },
    {
      "cell_type": "code",
      "source": [
        "from collections import Counter\n",
        "\n",
        "def calcular_moda():\n",
        "    # Solicitando os valores do conjunto separados por vírgula\n",
        "    valores_input = input(\"Digite os valores do conjunto separados por vírgula: \")\n",
        "\n",
        "    # Convertendo a entrada para uma lista de inteiros\n",
        "    valores = list(map(int, valores_input.split(',')))\n",
        "\n",
        "    # Calculando a frequência dos valores\n",
        "    frequencia = Counter(valores)\n",
        "\n",
        "    # Encontrando o valor ou valores com maior frequência\n",
        "    max_frequencia = max(frequencia.values())\n",
        "    modas = [key for key, value in frequencia.items() if value == max_frequencia]\n",
        "\n",
        "    if len(modas) == 1:\n",
        "        print(f\"A moda do conjunto de valores é: {modas[0]}\")\n",
        "    else:\n",
        "        print(f\"As modas do conjunto de valores são: {modas}\")\n",
        "\n",
        "# Executando a função\n",
        "calcular_moda()\n"
      ],
      "metadata": {
        "colab": {
          "base_uri": "https://localhost:8080/"
        },
        "id": "mMb6Klcsb532",
        "outputId": "6f5d517c-9b78-432f-f088-1601a73dbac5"
      },
      "execution_count": 5,
      "outputs": [
        {
          "output_type": "stream",
          "name": "stdout",
          "text": [
            "Digite os valores do conjunto separados por vírgula: 6 , 7 , 9 , 10 , 10 , 12\n",
            "A moda do conjunto de valores é: 10\n"
          ]
        }
      ]
    },
    {
      "cell_type": "markdown",
      "source": [
        "**Os dados a seguir representam uma amostra da variação de idade dos alunos da escola de futebol infantil. Com base\n",
        "nos dados apresentados, determine a média da idade dos alunos por meio da média aritmética.**\n",
        "\n",
        "9 - 6 - 5 - 4 - 8 - 9 - 10 - 4 - 7 - 8 - 5 - 6 - 10"
      ],
      "metadata": {
        "id": "d5QKwSIxcYIq"
      }
    },
    {
      "cell_type": "code",
      "source": [
        "def calcular_media():\n",
        "    # Solicitando as idades dos alunos separadas por vírgula\n",
        "    idades_input = input(\"Digite as idades dos alunos separadas por vírgula: \")\n",
        "\n",
        "    # Convertendo a entrada para uma lista de inteiros\n",
        "    idades = list(map(int, idades_input.split(',')))\n",
        "\n",
        "    # Calculando a média aritmética\n",
        "    media = sum(idades) / len(idades)\n",
        "\n",
        "    print(f\"A média da idade dos alunos é: {media:.2f}\")\n",
        "\n",
        "# Executando a função\n",
        "calcular_media()\n"
      ],
      "metadata": {
        "colab": {
          "base_uri": "https://localhost:8080/"
        },
        "id": "UM9ZeJRpcfyk",
        "outputId": "a53bc75f-b7a5-46db-cb05-db0b6113bded"
      },
      "execution_count": 6,
      "outputs": [
        {
          "output_type": "stream",
          "name": "stdout",
          "text": [
            "Digite as idades dos alunos separadas por vírgula: 9 , 6 , 5 , 4 , 8 , 9 , 10 , 4 , 7 , 8 , 5 , 6 , 10\n",
            "A média da idade dos alunos é: 7.00\n"
          ]
        }
      ]
    },
    {
      "cell_type": "markdown",
      "source": [
        "**Dada a distribuição de frequências a seguir, qual a frequência acumulada total?**\n",
        "\n",
        "Idades\n",
        "\n",
        "19 |-- 21\n",
        "\n",
        "21 |-- 23\n",
        "\n",
        "23 |-- 25\n",
        "\n",
        "25 |-- 27\n",
        "\n",
        "27 |-- 29\n",
        "\n",
        "29 |-- 31\n",
        "\n",
        "\n",
        " Frequência (f)\n",
        " 8\n",
        "\n",
        " 12\n",
        "\n",
        " 15\n",
        "\n",
        " 13\n",
        "\n",
        " 7\n",
        "\n",
        " 5"
      ],
      "metadata": {
        "id": "WwulwGDldBRa"
      }
    },
    {
      "cell_type": "code",
      "source": [
        "def calcular_frequencia_acumulada():\n",
        "    # Solicitando os intervalos de idades (não será utilizado diretamente no cálculo, apenas para consistência)\n",
        "    intervalos_idades = input(\"Digite os intervalos de idades separados por vírgula (exemplo: 19-21,21-23,...): \")\n",
        "\n",
        "    # Solicitando as frequências separadas por vírgula\n",
        "    frequencias_input = input(\"Digite as frequências correspondentes aos intervalos separados por vírgula: \")\n",
        "\n",
        "    # Convertendo a entrada para uma lista de inteiros\n",
        "    frequencias = list(map(int, frequencias_input.split(',')))\n",
        "\n",
        "    # Calculando a frequência acumulada total\n",
        "    frequencia_acumulada_total = sum(frequencias)\n",
        "\n",
        "    print(f\"A frequência acumulada total é: {frequencia_acumulada_total}\")\n",
        "\n",
        "# Executando a função\n",
        "calcular_frequencia_acumulada()\n"
      ],
      "metadata": {
        "colab": {
          "base_uri": "https://localhost:8080/"
        },
        "id": "12KNeEcJdAac",
        "outputId": "85c8bafc-5c90-480b-f1a1-e8ef0b5b1964"
      },
      "execution_count": 7,
      "outputs": [
        {
          "output_type": "stream",
          "name": "stdout",
          "text": [
            "Digite os intervalos de idades separados por vírgula (exemplo: 19-21,21-23,...): 19-21,21-23,23-25,25-27,27-29,29-31\n",
            "Digite as frequências correspondentes aos intervalos separados por vírgula: 8,12,15,13,7,5\n",
            "A frequência acumulada total é: 60\n"
          ]
        }
      ]
    },
    {
      "cell_type": "markdown",
      "source": [
        "Em uma disputa de torneio de tiro ao alvo, a probabilidade do atirador A acertar no alvo é 50%, e a do atirador B de atingir o\n",
        "mesmo alvo é de 60%.\n",
        "\n",
        "**Com isso, qual a probabilidade do alvo ser atingido, se ambos atirarem nele?**"
      ],
      "metadata": {
        "id": "pVgKVxqdeUMu"
      }
    },
    {
      "cell_type": "code",
      "source": [
        "def calcular_probabilidade_atingir_alvo():\n",
        "    # Solicitando a probabilidade do atirador A acertar o alvo\n",
        "    prob_a = float(input(\"Digite a probabilidade do atirador A acertar o alvo (em %): \")) / 100\n",
        "\n",
        "    # Solicitando a probabilidade do atirador B acertar o alvo\n",
        "    prob_b = float(input(\"Digite a probabilidade do atirador B acertar o alvo (em %): \")) / 100\n",
        "\n",
        "    # Calculando a probabilidade do alvo ser atingido\n",
        "    prob_alvo_nao_atingido = (1 - prob_a) * (1 - prob_b)\n",
        "    prob_alvo_atingido = 1 - prob_alvo_nao_atingido\n",
        "\n",
        "    print(f\"A probabilidade do alvo ser atingido por pelo menos um dos atiradores é: {prob_alvo_atingido * 100:.2f}%\")\n",
        "\n",
        "# Executando a função\n",
        "calcular_probabilidade_atingir_alvo()\n"
      ],
      "metadata": {
        "colab": {
          "base_uri": "https://localhost:8080/"
        },
        "id": "lKEfXD1meaXs",
        "outputId": "51dcbf1c-0c22-49a9-f26e-72fc7613964c"
      },
      "execution_count": 8,
      "outputs": [
        {
          "output_type": "stream",
          "name": "stdout",
          "text": [
            "Digite a probabilidade do atirador A acertar o alvo (em %): 50\n",
            "Digite a probabilidade do atirador B acertar o alvo (em %): 60\n",
            "A probabilidade do alvo ser atingido por pelo menos um dos atiradores é: 80.00%\n"
          ]
        }
      ]
    },
    {
      "cell_type": "markdown",
      "source": [
        "Em uma distribuição de frequências, verificou-se que a moda é igual a 8,0, a média é igual a 7,8 e o desvio padrão é igual a 1,0.\n",
        "\n",
        "**Com base na informação, determine o primeiro coeficiente de assimetria de Pearson.**"
      ],
      "metadata": {
        "id": "WMeWVOkGexXy"
      }
    },
    {
      "cell_type": "code",
      "source": [
        "def calcular_coeficiente_assimetria_pearson():\n",
        "    # Solicitando a moda\n",
        "    moda = float(input(\"Digite a moda: \"))\n",
        "\n",
        "    # Solicitando a média\n",
        "    media = float(input(\"Digite a média: \"))\n",
        "\n",
        "    # Solicitando o desvio padrão\n",
        "    desvio_padrao = float(input(\"Digite o desvio padrão: \"))\n",
        "\n",
        "    # Calculando o coeficiente de assimetria de Pearson\n",
        "    coeficiente_assimetria = 3 * (media - moda) / desvio_padrao\n",
        "\n",
        "    print(f\"O primeiro coeficiente de assimetria de Pearson é: {coeficiente_assimetria:.2f}\")\n",
        "\n",
        "# Executando a função\n",
        "calcular_coeficiente_assimetria_pearson()\n"
      ],
      "metadata": {
        "colab": {
          "base_uri": "https://localhost:8080/"
        },
        "id": "RI-ZjXoMe5SZ",
        "outputId": "4674302f-ffb0-4b6f-b3af-a787d0eb264c"
      },
      "execution_count": 10,
      "outputs": [
        {
          "output_type": "stream",
          "name": "stdout",
          "text": [
            "Digite a moda: 8\n",
            "Digite a média: 7.8\n",
            "Digite o desvio padrão: 1\n",
            "O primeiro coeficiente de assimetria de Pearson é: -0.60\n"
          ]
        }
      ]
    },
    {
      "cell_type": "markdown",
      "source": [
        "A probabilidade de que Pedro resolva um problema é de 1/3, e a de que Paulo resolva é de 1/4.\n",
        "\n",
        "**Se ambos tentarem resolver\n",
        "independentemente o problema, qual a probabilidade de que o problema seja resolvido?**"
      ],
      "metadata": {
        "id": "rkQwOhWEfuBG"
      }
    },
    {
      "cell_type": "code",
      "source": [
        "def calcular_probabilidade_problema_resolvido():\n",
        "    # Solicitando a probabilidade de Pedro resolver o problema\n",
        "    prob_pedro_input = input(\"Digite a probabilidade de Pedro resolver o problema (exemplo: 1/3): \")\n",
        "\n",
        "    # Solicitando a probabilidade de Paulo resolver o problema\n",
        "    prob_paulo_input = input(\"Digite a probabilidade de Paulo resolver o problema (exemplo: 1/4): \")\n",
        "\n",
        "    # Convertendo as frações para decimais\n",
        "    prob_pedro = eval(prob_pedro_input)\n",
        "    prob_paulo = eval(prob_paulo_input)\n",
        "\n",
        "    # Calculando a probabilidade de que pelo menos um dos dois resolva o problema\n",
        "    prob_nao_resolvido_pedro = 1 - prob_pedro\n",
        "    prob_nao_resolvido_paulo = 1 - prob_paulo\n",
        "    prob_nao_resolvido_ambos = prob_nao_resolvido_pedro * prob_nao_resolvido_paulo\n",
        "    prob_resolvido = 1 - prob_nao_resolvido_ambos\n",
        "\n",
        "    print(f\"A probabilidade de que o problema seja resolvido por pelo menos um deles é: {prob_resolvido:.2f}\")\n",
        "\n",
        "# Executando a função\n",
        "calcular_probabilidade_problema_resolvido()\n"
      ],
      "metadata": {
        "colab": {
          "base_uri": "https://localhost:8080/"
        },
        "id": "axjIXUi2f3Q-",
        "outputId": "b7622806-9278-4a3f-f90f-44433450a294"
      },
      "execution_count": 12,
      "outputs": [
        {
          "output_type": "stream",
          "name": "stdout",
          "text": [
            "Digite a probabilidade de Pedro resolver o problema (exemplo: 1/3): 1/3\n",
            "Digite a probabilidade de Paulo resolver o problema (exemplo: 1/4): 1/4\n",
            "A probabilidade de que o problema seja resolvido por pelo menos um deles é: 0.50\n"
          ]
        }
      ]
    },
    {
      "cell_type": "markdown",
      "source": [
        "Considerando o universo dos números inteiros, escolhemos ao acaso um número inteiro de 1 a 30.\n",
        "\n",
        "**Qual a probabilidade desse\n",
        "número ser divisível por 3?**"
      ],
      "metadata": {
        "id": "OAvnfsYPgYcH"
      }
    },
    {
      "cell_type": "code",
      "source": [
        "def calcular_probabilidade_divisivel_por_3():\n",
        "    # Solicitando o intervalo de números inteiros\n",
        "    limite_inferior = int(input(\"Digite o limite inferior do intervalo: \"))\n",
        "    limite_superior = int(input(\"Digite o limite superior do intervalo: \"))\n",
        "\n",
        "    # Contando o total de números no intervalo\n",
        "    total_numeros = limite_superior - limite_inferior + 1\n",
        "\n",
        "    # Contando quantos desses números são divisíveis por 3\n",
        "    numeros_divisiveis_por_3 = [num for num in range(limite_inferior, limite_superior + 1) if num % 3 == 0]\n",
        "    total_divisiveis_por_3 = len(numeros_divisiveis_por_3)\n",
        "\n",
        "    # Calculando a probabilidade\n",
        "    probabilidade = total_divisiveis_por_3 / total_numeros\n",
        "\n",
        "    print(f\"A probabilidade de um número escolhido ao acaso ser divisível por 3 é: {probabilidade:.2f}\")\n",
        "\n",
        "# Executando a função\n",
        "calcular_probabilidade_divisivel_por_3()\n"
      ],
      "metadata": {
        "colab": {
          "base_uri": "https://localhost:8080/"
        },
        "id": "JllN2ipYgcfA",
        "outputId": "492e3991-b091-4930-b69c-9aa09eadd870"
      },
      "execution_count": 13,
      "outputs": [
        {
          "output_type": "stream",
          "name": "stdout",
          "text": [
            "Digite o limite inferior do intervalo: 1\n",
            "Digite o limite superior do intervalo: 30\n",
            "A probabilidade de um número escolhido ao acaso ser divisível por 3 é: 0.33\n"
          ]
        }
      ]
    },
    {
      "cell_type": "markdown",
      "source": [
        "Uma pessoa tem dois automóveis velhos. Nas manhãs frias, há 20% de chance de um deles não pegar e 30% de chance de o\n",
        "outro não pegar.\n",
        "\n",
        "**Qual a probabilidade de, em uma manhã fria, apenas um pegar?**"
      ],
      "metadata": {
        "id": "U-g0_2zphd1a"
      }
    },
    {
      "cell_type": "code",
      "source": [
        "def calcular_probabilidade_um_pegar():\n",
        "    # Solicitando a probabilidade do primeiro automóvel não pegar\n",
        "    prob_nao_pegar_1 = float(input(\"Digite a probabilidade do primeiro automóvel não pegar (em %): \")) / 100\n",
        "\n",
        "    # Solicitando a probabilidade do segundo automóvel não pegar\n",
        "    prob_nao_pegar_2 = float(input(\"Digite a probabilidade do segundo automóvel não pegar (em %): \")) / 100\n",
        "\n",
        "    # Calculando a probabilidade de cada automóvel pegar\n",
        "    prob_pegar_1 = 1 - prob_nao_pegar_1\n",
        "    prob_pegar_2 = 1 - prob_nao_pegar_2\n",
        "\n",
        "    # Calculando a probabilidade de apenas um automóvel pegar\n",
        "    prob_apenas_um_pegar = (prob_pegar_1 * prob_nao_pegar_2) + (prob_nao_pegar_1 * prob_pegar_2)\n",
        "\n",
        "    print(f\"A probabilidade de que apenas um automóvel pegue é: {prob_apenas_um_pegar * 100:.2f}%\")\n",
        "\n",
        "# Executando a função\n",
        "calcular_probabilidade_um_pegar()\n"
      ],
      "metadata": {
        "colab": {
          "base_uri": "https://localhost:8080/"
        },
        "id": "IUujuo5-hbPH",
        "outputId": "9127de88-2fcc-4960-ea7c-fe69698cd802"
      },
      "execution_count": 14,
      "outputs": [
        {
          "output_type": "stream",
          "name": "stdout",
          "text": [
            "Digite a probabilidade do primeiro automóvel não pegar (em %): 20\n",
            "Digite a probabilidade do segundo automóvel não pegar (em %): 30\n",
            "A probabilidade de que apenas um automóvel pegue é: 38.00%\n"
          ]
        }
      ]
    },
    {
      "cell_type": "markdown",
      "source": [
        "Considerando o universo dos números inteiros, escolhemos ao acaso um número inteiro de 1 a 30.\n",
        "\n",
        "**Qual a probabilidade desse\n",
        "número ser divisível por 3 OU POR 5?**"
      ],
      "metadata": {
        "id": "UHBdSeIjitfZ"
      }
    },
    {
      "cell_type": "code",
      "source": [
        "def calcular_probabilidade_divisivel_por_3_ou_5():\n",
        "    # Solicitando o intervalo de números inteiros\n",
        "    limite_inferior = int(input(\"Digite o limite inferior do intervalo: \"))\n",
        "    limite_superior = int(input(\"Digite o limite superior do intervalo: \"))\n",
        "\n",
        "    # Contando o total de números no intervalo\n",
        "    total_numeros = limite_superior - limite_inferior + 1\n",
        "\n",
        "    # Contando quantos desses números são divisíveis por 3 ou por 5\n",
        "    numeros_divisiveis_por_3_ou_5 = [num for num in range(limite_inferior, limite_superior + 1) if num % 3 == 0 or num % 5 == 0]\n",
        "    total_divisiveis_por_3_ou_5 = len(numeros_divisiveis_por_3_ou_5)\n",
        "\n",
        "    # Calculando a probabilidade\n",
        "    probabilidade = total_divisiveis_por_3_ou_5 / total_numeros\n",
        "\n",
        "    print(f\"A probabilidade de um número escolhido ao acaso ser divisível por 3 ou por 5 é: {probabilidade:.2f}\")\n",
        "\n",
        "# Executando a função\n",
        "calcular_probabilidade_divisivel_por_3_ou_5()\n"
      ],
      "metadata": {
        "colab": {
          "base_uri": "https://localhost:8080/"
        },
        "id": "vZSsKxdiizgq",
        "outputId": "9abc150a-d37d-4e5d-9c19-87425f881012"
      },
      "execution_count": 15,
      "outputs": [
        {
          "output_type": "stream",
          "name": "stdout",
          "text": [
            "Digite o limite inferior do intervalo: 1\n",
            "Digite o limite superior do intervalo: 30\n",
            "A probabilidade de um número escolhido ao acaso ser divisível por 3 ou por 5 é: 0.47\n"
          ]
        }
      ]
    }
  ]
}